{
 "cells": [
  {
   "cell_type": "markdown",
   "metadata": {},
   "source": [
    "#### Dependencies\n",
    "____"
   ]
  },
  {
   "cell_type": "code",
   "execution_count": 106,
   "metadata": {},
   "outputs": [],
   "source": [
    "import numpy as np\n",
    "import pandas as pd\n",
    "import matplotlib.pyplot as plt\n",
    "import statsmodels.api as sm\n",
    "import seaborn as sns\n",
    "\n",
    "from fbprophet import Prophet\n",
    "from statsmodels.tools.eval_measures import rmse\n",
    "from statsmodels.tsa.holtwinters import ExponentialSmoothing\n",
    "\n",
    "%matplotlib inline"
   ]
  },
  {
   "cell_type": "markdown",
   "metadata": {},
   "source": [
    "#### Support Functions\n",
    "____ "
   ]
  },
  {
   "cell_type": "code",
   "execution_count": 63,
   "metadata": {},
   "outputs": [],
   "source": [
    "def get_train_test(dataset, model, feature, prediction_days):\n",
    "\n",
    "    if (model == 'es'):        \n",
    "        master = dataset.copy(deep=True)\n",
    "        master.set_index('datetime', inplace=True)        \n",
    "        master.index.freq='D'\n",
    "        master = master[feature]\n",
    "        master.columns = ['y']                \n",
    "        \n",
    "        cutoff_date = master.index.max() - pd.Timedelta(days=prediction_days)\n",
    "\n",
    "        cond_train = master.index <= cutoff_date  \n",
    "        cond_test  = master.index > cutoff_date    # max forecast time = 1 year\n",
    "        \n",
    "    \n",
    "    elif (model == 'fp'):\n",
    "        master = dataset.copy(deep=True)\n",
    "        master = master[['datetime', feature]]\n",
    "        master.columns = ['ds', 'y']\n",
    "        \n",
    "        cutoff_date = master['ds'].max() - pd.Timedelta(days=prediction_days)\n",
    "\n",
    "        cond_train = master['ds'] <= cutoff_date  \n",
    "        cond_test  = master['ds'] > cutoff_date    # max forecast time = 1 year                \n",
    "\n",
    "    test = master[cond_test]\n",
    "    train = master[cond_train]         \n",
    "    \n",
    "    return train, test\n"
   ]
  },
  {
   "cell_type": "markdown",
   "metadata": {},
   "source": [
    "#### Load Data\n",
    "____"
   ]
  },
  {
   "cell_type": "code",
   "execution_count": 50,
   "metadata": {},
   "outputs": [
    {
     "data": {
      "text/plain": [
       "Index(['datetime', 'Global_active_power', 'Global_reactive_power', 'Voltage',\n",
       "       'Global_intensity', 'kitchen_active_energy', 'laundry_active_energy',\n",
       "       'water_heater_ac_active_energy', 'equipment_active_energy'],\n",
       "      dtype='object')"
      ]
     },
     "execution_count": 50,
     "metadata": {},
     "output_type": "execute_result"
    }
   ],
   "source": [
    "dataset = '../resources/daily_household_power_consumption.csv'\n",
    "\n",
    "master = pd.read_csv(dataset, infer_datetime_format=True, parse_dates=['datetime'])\n",
    "master.columns"
   ]
  },
  {
   "cell_type": "code",
   "execution_count": 91,
   "metadata": {},
   "outputs": [],
   "source": [
    "models = ['es', 'fp']\n",
    "features = ['kitchen_active_energy', 'laundry_active_energy', 'water_heater_ac_active_energy', 'equipment_active_energy']"
   ]
  },
  {
   "cell_type": "markdown",
   "metadata": {},
   "source": [
    "#### Perform model evaluation for each feature \n",
    "____"
   ]
  },
  {
   "cell_type": "code",
   "execution_count": 117,
   "metadata": {},
   "outputs": [
    {
     "name": "stderr",
     "output_type": "stream",
     "text": [
      "C:\\ProgramData\\Anaconda3\\lib\\site-packages\\statsmodels\\tsa\\holtwinters.py:725: RuntimeWarning: invalid value encountered in less_equal\n",
      "  loc = initial_p <= lb\n",
      "C:\\ProgramData\\Anaconda3\\lib\\site-packages\\statsmodels\\tsa\\holtwinters.py:731: RuntimeWarning: invalid value encountered in greater_equal\n",
      "  loc = initial_p >= ub\n",
      "C:\\ProgramData\\Anaconda3\\lib\\site-packages\\statsmodels\\tsa\\holtwinters.py:744: ConvergenceWarning: Optimization failed to converge. Check mle_retvals.\n",
      "  ConvergenceWarning)\n",
      "INFO:fbprophet:Disabling daily seasonality. Run prophet with daily_seasonality=True to override this.\n",
      "INFO:fbprophet:Disabling daily seasonality. Run prophet with daily_seasonality=True to override this.\n",
      "INFO:fbprophet:Disabling daily seasonality. Run prophet with daily_seasonality=True to override this.\n",
      "INFO:fbprophet:Disabling daily seasonality. Run prophet with daily_seasonality=True to override this.\n"
     ]
    }
   ],
   "source": [
    "prediction_days = 90\n",
    "results = []\n",
    "\n",
    "for m in models:\n",
    "    for f in features:        \n",
    "        train, test = get_train_test(master, m, f, prediction_days)\n",
    "        \n",
    "        if (m == 'es'):\n",
    "            model = ExponentialSmoothing(train, trend='add', seasonal='add', seasonal_periods=7).fit()    \n",
    "            predictions = model.forecast(steps=prediction_days)            \n",
    "            rmse_score = rmse(x1 = test, x2 = predictions )\n",
    "            \n",
    "            results.append({\n",
    "                'model'   : m,\n",
    "                'feature' : f.split('_')[0],\n",
    "                'rmse'    : rmse_score,\n",
    "                'avg'     : test.mean(),\n",
    "                'std'     : test.std()\n",
    "            })\n",
    "            \n",
    "        elif (m == 'fp'):\n",
    "            model = Prophet(seasonality_mode='multiplicative').fit(train)\n",
    "            predictions = model.make_future_dataframe(periods=prediction_days, freq='D')            \n",
    "            forecast = model.predict(predictions)\n",
    "            \n",
    "            pred_data = forecast.copy(deep=True)\n",
    "            pred_data.set_index('ds', inplace=True)\n",
    "            pred_data.index.freq='D'\n",
    "            pred_data = pred_data.iloc[-prediction_days:]            \n",
    "            \n",
    "            rmse_score = rmse(x1 = test['y'], x2 = pred_data['yhat'])                   \n",
    "        \n",
    "            results.append({\n",
    "                'model'   : m,\n",
    "                'feature' : f.split('_')[0],\n",
    "                'rmse'    : rmse_score,\n",
    "                'avg'     : test['y'].mean(),\n",
    "                'std'     : test['y'].std()\n",
    "            })      \n"
   ]
  },
  {
   "cell_type": "markdown",
   "metadata": {},
   "source": [
    "#### Plot results\n",
    "_____"
   ]
  },
  {
   "cell_type": "code",
   "execution_count": 328,
   "metadata": {},
   "outputs": [
    {
     "data": {
      "image/png": "[encoded data removed]",
      "text/plain": [
       "<Figure size 2200x600 with 2 Axes>"
      ]
     },
     "metadata": {
      "needs_background": "light"
     },
     "output_type": "display_data"
    }
   ],
   "source": [
    "pred_data = pd.DataFrame(results)\n",
    "\n",
    "f, ax = plt.subplots(nrows=1, ncols=2, figsize=(22, 6), dpi=100)\n",
    "\n",
    "cond1 = pred_data['model'] == 'es'\n",
    "pred_data[cond1].plot(kind='barh', stacked=True, ax=ax[0], x='feature')\n",
    "ax[0].set_xlabel('kWh')\n",
    "ax[0].set_title('Error Measurement Versus Test Data - Exponential Smoothing')\n",
    "\n",
    "cond2 = pred_data['model'] == 'fp'\n",
    "pred_data[cond2].plot(kind='barh', stacked=True, ax=ax[1], x='feature')\n",
    "ax[1].set_xlabel('kWh')\n",
    "ax[1].set_title('Error Measurement Versus Test Data - Facebook Prophet')\n",
    "\n",
    "for idx in range(len(ax)):    \n",
    "    for lbl in ax[idx].patches:        \n",
    "        x = lbl.get_x()\n",
    "        y = lbl.get_y()\n",
    "        \n",
    "        ax[idx].annotate(\"{:.0f}kWh\".format(int(lbl.get_width())),(x,y),horizontalalignment='left', verticalalignment='top', fontsize=9)\n",
    "    \n",
    "    \n",
    "plt.tight_layout()"
   ]
  },
  {
   "cell_type": "code",
   "execution_count": 152,
   "metadata": {},
   "outputs": [
    {
     "data": {
      "text/html": [
       "<div>\n",
       "<style scoped>\n",
       "    .dataframe tbody tr th:only-of-type {\n",
       "        vertical-align: middle;\n",
       "    }\n",
       "\n",
       "    .dataframe tbody tr th {\n",
       "        vertical-align: top;\n",
       "    }\n",
       "\n",
       "    .dataframe thead th {\n",
       "        text-align: right;\n",
       "    }\n",
       "</style>\n",
       "<table border=\"1\" class=\"dataframe\">\n",
       "  <thead>\n",
       "    <tr style=\"text-align: right;\">\n",
       "      <th></th>\n",
       "      <th>model</th>\n",
       "      <th>feature</th>\n",
       "      <th>rmse</th>\n",
       "      <th>avg</th>\n",
       "      <th>std</th>\n",
       "    </tr>\n",
       "  </thead>\n",
       "  <tbody>\n",
       "    <tr>\n",
       "      <th>0</th>\n",
       "      <td>es</td>\n",
       "      <td>kitchen</td>\n",
       "      <td>1854.790330</td>\n",
       "      <td>1601.044444</td>\n",
       "      <td>1294.591540</td>\n",
       "    </tr>\n",
       "    <tr>\n",
       "      <th>1</th>\n",
       "      <td>es</td>\n",
       "      <td>laundry</td>\n",
       "      <td>1983.529439</td>\n",
       "      <td>1571.077778</td>\n",
       "      <td>1934.993402</td>\n",
       "    </tr>\n",
       "    <tr>\n",
       "      <th>2</th>\n",
       "      <td>es</td>\n",
       "      <td>water</td>\n",
       "      <td>2834.146686</td>\n",
       "      <td>9870.855556</td>\n",
       "      <td>2796.931768</td>\n",
       "    </tr>\n",
       "    <tr>\n",
       "      <th>3</th>\n",
       "      <td>es</td>\n",
       "      <td>equipment</td>\n",
       "      <td>3859.695085</td>\n",
       "      <td>13299.585555</td>\n",
       "      <td>3135.620762</td>\n",
       "    </tr>\n",
       "    <tr>\n",
       "      <th>4</th>\n",
       "      <td>fp</td>\n",
       "      <td>kitchen</td>\n",
       "      <td>1273.777219</td>\n",
       "      <td>1601.044444</td>\n",
       "      <td>1294.591540</td>\n",
       "    </tr>\n",
       "    <tr>\n",
       "      <th>5</th>\n",
       "      <td>fp</td>\n",
       "      <td>laundry</td>\n",
       "      <td>2029.255984</td>\n",
       "      <td>1571.077778</td>\n",
       "      <td>1934.993402</td>\n",
       "    </tr>\n",
       "    <tr>\n",
       "      <th>6</th>\n",
       "      <td>fp</td>\n",
       "      <td>water</td>\n",
       "      <td>3491.827413</td>\n",
       "      <td>9870.855556</td>\n",
       "      <td>2796.931768</td>\n",
       "    </tr>\n",
       "    <tr>\n",
       "      <th>7</th>\n",
       "      <td>fp</td>\n",
       "      <td>equipment</td>\n",
       "      <td>2671.030355</td>\n",
       "      <td>13299.585555</td>\n",
       "      <td>3135.620762</td>\n",
       "    </tr>\n",
       "  </tbody>\n",
       "</table>\n",
       "</div>"
      ],
      "text/plain": [
       "  model    feature         rmse           avg          std\n",
       "0    es    kitchen  1854.790330   1601.044444  1294.591540\n",
       "1    es    laundry  1983.529439   1571.077778  1934.993402\n",
       "2    es      water  2834.146686   9870.855556  2796.931768\n",
       "3    es  equipment  3859.695085  13299.585555  3135.620762\n",
       "4    fp    kitchen  1273.777219   1601.044444  1294.591540\n",
       "5    fp    laundry  2029.255984   1571.077778  1934.993402\n",
       "6    fp      water  3491.827413   9870.855556  2796.931768\n",
       "7    fp  equipment  2671.030355  13299.585555  3135.620762"
      ]
     },
     "execution_count": 152,
     "metadata": {},
     "output_type": "execute_result"
    }
   ],
   "source": [
    "pred_data"
   ]
  },
  {
   "cell_type": "code",
   "execution_count": 238,
   "metadata": {},
   "outputs": [
    {
     "data": {
      "text/plain": [
       "2"
      ]
     },
     "execution_count": 238,
     "metadata": {},
     "output_type": "execute_result"
    }
   ],
   "source": [
    "len(ax)"
   ]
  },
  {
   "cell_type": "code",
   "execution_count": null,
   "metadata": {},
   "outputs": [],
   "source": []
  },
  {
   "cell_type": "code",
   "execution_count": null,
   "metadata": {},
   "outputs": [],
   "source": []
  },
  {
   "cell_type": "code",
   "execution_count": null,
   "metadata": {},
   "outputs": [],
   "source": []
  },
  {
   "cell_type": "code",
   "execution_count": null,
   "metadata": {},
   "outputs": [],
   "source": []
  },
  {
   "cell_type": "code",
   "execution_count": null,
   "metadata": {},
   "outputs": [],
   "source": []
  },
  {
   "cell_type": "code",
   "execution_count": null,
   "metadata": {},
   "outputs": [],
   "source": []
  }
 ],
 "metadata": {
  "kernelspec": {
   "display_name": "Python 3",
   "language": "python",
   "name": "python3"
  },
  "language_info": {
   "codemirror_mode": {
    "name": "ipython",
    "version": 3
   },
   "file_extension": ".py",
   "mimetype": "text/x-python",
   "name": "python",
   "nbconvert_exporter": "python",
   "pygments_lexer": "ipython3",
   "version": "3.7.6"
  }
 },
 "nbformat": 4,
 "nbformat_minor": 4
}
