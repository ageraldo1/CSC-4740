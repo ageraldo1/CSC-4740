{
 "cells": [
  {
   "cell_type": "markdown",
   "metadata": {},
   "source": [
    "#### Dependencies\n",
    "____"
   ]
  },
  {
   "cell_type": "code",
   "execution_count": 7,
   "metadata": {},
   "outputs": [],
   "source": [
    "import pandas as pd\n",
    "import pickle\n",
    "\n",
    "from sqlalchemy import create_engine\n",
    "from fbprophet import Prophet"
   ]
  },
  {
   "cell_type": "markdown",
   "metadata": {},
   "source": [
    "#### Load Data\n",
    "____"
   ]
  },
  {
   "cell_type": "code",
   "execution_count": 25,
   "metadata": {},
   "outputs": [
    {
     "data": {
      "text/html": [
       "<div>\n",
       "<style scoped>\n",
       "    .dataframe tbody tr th:only-of-type {\n",
       "        vertical-align: middle;\n",
       "    }\n",
       "\n",
       "    .dataframe tbody tr th {\n",
       "        vertical-align: top;\n",
       "    }\n",
       "\n",
       "    .dataframe thead th {\n",
       "        text-align: right;\n",
       "    }\n",
       "</style>\n",
       "<table border=\"1\" class=\"dataframe\">\n",
       "  <thead>\n",
       "    <tr style=\"text-align: right;\">\n",
       "      <th></th>\n",
       "      <th>datetime</th>\n",
       "      <th>Global_active_power</th>\n",
       "      <th>Global_reactive_power</th>\n",
       "      <th>Voltage</th>\n",
       "      <th>Global_intensity</th>\n",
       "      <th>kitchen_active_energy</th>\n",
       "      <th>laundry_active_energy</th>\n",
       "      <th>water_heater_ac_active_energy</th>\n",
       "      <th>equipment_active_energy</th>\n",
       "    </tr>\n",
       "  </thead>\n",
       "  <tbody>\n",
       "    <tr>\n",
       "      <th>0</th>\n",
       "      <td>2006-12-16</td>\n",
       "      <td>1209.176</td>\n",
       "      <td>34.922</td>\n",
       "      <td>93552.53</td>\n",
       "      <td>5180.8</td>\n",
       "      <td>0.0</td>\n",
       "      <td>546.0</td>\n",
       "      <td>4926.0</td>\n",
       "      <td>14680.933319</td>\n",
       "    </tr>\n",
       "    <tr>\n",
       "      <th>1</th>\n",
       "      <td>2006-12-17</td>\n",
       "      <td>3390.460</td>\n",
       "      <td>226.006</td>\n",
       "      <td>345725.32</td>\n",
       "      <td>14398.6</td>\n",
       "      <td>2033.0</td>\n",
       "      <td>4187.0</td>\n",
       "      <td>13341.0</td>\n",
       "      <td>36946.666732</td>\n",
       "    </tr>\n",
       "    <tr>\n",
       "      <th>2</th>\n",
       "      <td>2006-12-18</td>\n",
       "      <td>2203.826</td>\n",
       "      <td>161.792</td>\n",
       "      <td>347373.64</td>\n",
       "      <td>9247.2</td>\n",
       "      <td>1063.0</td>\n",
       "      <td>2621.0</td>\n",
       "      <td>14018.0</td>\n",
       "      <td>19028.433281</td>\n",
       "    </tr>\n",
       "    <tr>\n",
       "      <th>3</th>\n",
       "      <td>2006-12-19</td>\n",
       "      <td>1666.194</td>\n",
       "      <td>150.942</td>\n",
       "      <td>348479.01</td>\n",
       "      <td>7094.0</td>\n",
       "      <td>839.0</td>\n",
       "      <td>7602.0</td>\n",
       "      <td>6197.0</td>\n",
       "      <td>13131.900043</td>\n",
       "    </tr>\n",
       "    <tr>\n",
       "      <th>4</th>\n",
       "      <td>2006-12-20</td>\n",
       "      <td>2225.748</td>\n",
       "      <td>160.998</td>\n",
       "      <td>348923.61</td>\n",
       "      <td>9313.0</td>\n",
       "      <td>0.0</td>\n",
       "      <td>2648.0</td>\n",
       "      <td>14063.0</td>\n",
       "      <td>20384.800011</td>\n",
       "    </tr>\n",
       "  </tbody>\n",
       "</table>\n",
       "</div>"
      ],
      "text/plain": [
       "    datetime  Global_active_power  Global_reactive_power    Voltage  \\\n",
       "0 2006-12-16             1209.176                 34.922   93552.53   \n",
       "1 2006-12-17             3390.460                226.006  345725.32   \n",
       "2 2006-12-18             2203.826                161.792  347373.64   \n",
       "3 2006-12-19             1666.194                150.942  348479.01   \n",
       "4 2006-12-20             2225.748                160.998  348923.61   \n",
       "\n",
       "   Global_intensity  kitchen_active_energy  laundry_active_energy  \\\n",
       "0            5180.8                    0.0                  546.0   \n",
       "1           14398.6                 2033.0                 4187.0   \n",
       "2            9247.2                 1063.0                 2621.0   \n",
       "3            7094.0                  839.0                 7602.0   \n",
       "4            9313.0                    0.0                 2648.0   \n",
       "\n",
       "   water_heater_ac_active_energy  equipment_active_energy  \n",
       "0                         4926.0             14680.933319  \n",
       "1                        13341.0             36946.666732  \n",
       "2                        14018.0             19028.433281  \n",
       "3                         6197.0             13131.900043  \n",
       "4                        14063.0             20384.800011  "
      ]
     },
     "execution_count": 25,
     "metadata": {},
     "output_type": "execute_result"
    }
   ],
   "source": [
    "dataset = '../resources/daily_household_power_consumption.csv'\n",
    "\n",
    "master = pd.read_csv(dataset, infer_datetime_format=True, parse_dates=['datetime'] )\n",
    "master.head()"
   ]
  },
  {
   "cell_type": "markdown",
   "metadata": {},
   "source": [
    "#### Adjust columns names\n",
    "____"
   ]
  },
  {
   "cell_type": "code",
   "execution_count": 26,
   "metadata": {},
   "outputs": [],
   "source": [
    "master.rename(columns = {\n",
    "    'Global_active_power'           : 'global',\n",
    "    'Global_reactive_power'         : 'reactive',\n",
    "    'Voltage'                       : 'voltage',\n",
    "    'Global_intensity'              : 'intensity',\n",
    "    'kitchen_active_energy'         : 'kitchen',\n",
    "    'laundry_active_energy'         : 'laundry',\n",
    "    'water_heater_ac_active_energy' : 'water',\n",
    "    'equipment_active_energy'       : 'equipment'\n",
    "},inplace=True)"
   ]
  },
  {
   "cell_type": "markdown",
   "metadata": {},
   "source": [
    "#### Export to SQLite \n",
    "____"
   ]
  },
  {
   "cell_type": "code",
   "execution_count": 27,
   "metadata": {},
   "outputs": [],
   "source": [
    "disk_engine = create_engine('sqlite:///../database/energy.db')\n",
    "master.to_sql(name='energy', con=disk_engine, if_exists='replace')"
   ]
  },
  {
   "cell_type": "markdown",
   "metadata": {},
   "source": [
    "### Export Models\n",
    "____"
   ]
  },
  {
   "cell_type": "code",
   "execution_count": 16,
   "metadata": {},
   "outputs": [
    {
     "name": "stderr",
     "output_type": "stream",
     "text": [
      "INFO:fbprophet:Disabling daily seasonality. Run prophet with daily_seasonality=True to override this.\n",
      "INFO:fbprophet:Disabling daily seasonality. Run prophet with daily_seasonality=True to override this.\n",
      "INFO:fbprophet:Disabling daily seasonality. Run prophet with daily_seasonality=True to override this.\n",
      "INFO:fbprophet:Disabling daily seasonality. Run prophet with daily_seasonality=True to override this.\n",
      "INFO:fbprophet:Disabling daily seasonality. Run prophet with daily_seasonality=True to override this.\n"
     ]
    }
   ],
   "source": [
    "features = ['Global_active_power', 'kitchen_active_energy', 'laundry_active_energy', 'water_heater_ac_active_energy', 'equipment_active_energy']\n",
    "\n",
    "for f in features:\n",
    "    model_df = master.copy(deep=True)\n",
    "    model_df = model_df[['datetime', f]]\n",
    "    model_df.columns = ['ds', 'y']\n",
    "    \n",
    "    model = Prophet(seasonality_mode='multiplicative').fit(model_df)    \n",
    "    pickle.dump(model, open('../models/' + f.split('_')[0].lower() + '.pkl','wb'))"
   ]
  },
  {
   "cell_type": "code",
   "execution_count": null,
   "metadata": {},
   "outputs": [],
   "source": []
  }
 ],
 "metadata": {
  "kernelspec": {
   "display_name": "Python 3",
   "language": "python",
   "name": "python3"
  },
  "language_info": {
   "codemirror_mode": {
    "name": "ipython",
    "version": 3
   },
   "file_extension": ".py",
   "mimetype": "text/x-python",
   "name": "python",
   "nbconvert_exporter": "python",
   "pygments_lexer": "ipython3",
   "version": "3.7.6"
  }
 },
 "nbformat": 4,
 "nbformat_minor": 4
}
