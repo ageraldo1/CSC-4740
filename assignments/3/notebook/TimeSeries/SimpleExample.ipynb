{
 "cells": [
  {
   "cell_type": "markdown",
   "metadata": {},
   "source": [
    "#### Dependencies\n",
    "____"
   ]
  },
  {
   "cell_type": "code",
   "execution_count": 34,
   "metadata": {},
   "outputs": [],
   "source": [
    "import pandas as pd\n",
    "import numpy as np\n",
    "import matplotlib.pyplot as plt\n",
    "\n",
    "from tensorflow.keras.utils  import plot_model\n",
    "from tensorflow.keras.models import Sequential\n",
    "from tensorflow.keras.layers import Dense,Dropout\n",
    "from tensorflow.keras.models import load_model\n",
    "\n",
    "from sklearn.metrics import mean_squared_error\n",
    "\n",
    "%matplotlib inline"
   ]
  },
  {
   "cell_type": "markdown",
   "metadata": {},
   "source": [
    "#### Simulate Data\n",
    "##### y = mx + b + noise\n",
    "_____"
   ]
  },
  {
   "cell_type": "code",
   "execution_count": 3,
   "metadata": {},
   "outputs": [],
   "source": [
    "m = 2\n",
    "b = 3\n",
    "x = np.linspace(0,50, 100)"
   ]
  },
  {
   "cell_type": "code",
   "execution_count": 7,
   "metadata": {},
   "outputs": [],
   "source": [
    "np.random.seed(101)\n",
    "noise = np.random.normal(loc=0, scale=4, size=len(x))"
   ]
  },
  {
   "cell_type": "code",
   "execution_count": 8,
   "metadata": {},
   "outputs": [],
   "source": [
    "y = 2*x + b + noise"
   ]
  },
  {
   "cell_type": "code",
   "execution_count": 10,
   "metadata": {},
   "outputs": [
    {
     "data": {
      "image/png": "[encoded data removed]",
      "text/plain": [
       "<Figure size 432x288 with 1 Axes>"
      ]
     },
     "metadata": {
      "needs_background": "light"
     },
     "output_type": "display_data"
    }
   ],
   "source": [
    "plt.plot(x, y, '*');"
   ]
  },
  {
   "cell_type": "markdown",
   "metadata": {},
   "source": [
    "#### Regression Model\n",
    "______"
   ]
  },
  {
   "cell_type": "code",
   "execution_count": 15,
   "metadata": {},
   "outputs": [],
   "source": [
    "model = Sequential()\n",
    "model.add(Dense(units=4, input_dim=1, activation='relu'))\n",
    "model.add(Dense(units=4, activation='relu'))\n",
    "\n",
    "model.add(Dense(units=1, activation='linear'))\n",
    "\n",
    "model.compile(loss='mse', optimizer='adam')"
   ]
  },
  {
   "cell_type": "code",
   "execution_count": 17,
   "metadata": {},
   "outputs": [
    {
     "name": "stdout",
     "output_type": "stream",
     "text": [
      "Model: \"sequential_2\"\n",
      "_________________________________________________________________\n",
      "Layer (type)                 Output Shape              Param #   \n",
      "=================================================================\n",
      "dense_1 (Dense)              (None, 4)                 8         \n",
      "_________________________________________________________________\n",
      "dense_2 (Dense)              (None, 4)                 20        \n",
      "_________________________________________________________________\n",
      "dense_3 (Dense)              (None, 1)                 5         \n",
      "=================================================================\n",
      "Total params: 33\n",
      "Trainable params: 33\n",
      "Non-trainable params: 0\n",
      "_________________________________________________________________\n"
     ]
    }
   ],
   "source": [
    "model.summary()"
   ]
  },
  {
   "cell_type": "markdown",
   "metadata": {},
   "source": [
    "#### Fit Model\n",
    "______"
   ]
  },
  {
   "cell_type": "code",
   "execution_count": 19,
   "metadata": {},
   "outputs": [
    {
     "name": "stdout",
     "output_type": "stream",
     "text": [
      "Train on 100 samples\n",
      "Epoch 1/200\n",
      "100/100 [==============================] - 1s 6ms/sample - loss: 6376.5232\n",
      "Epoch 2/200\n",
      "100/100 [==============================] - 0s 80us/sample - loss: 6224.0830\n",
      "Epoch 3/200\n",
      "100/100 [==============================] - 0s 80us/sample - loss: 6078.1219\n",
      "Epoch 4/200\n",
      "100/100 [==============================] - 0s 60us/sample - loss: 5936.7356\n",
      "Epoch 5/200\n",
      "100/100 [==============================] - 0s 80us/sample - loss: 5797.9409\n",
      "Epoch 6/200\n",
      "100/100 [==============================] - 0s 70us/sample - loss: 5656.4716\n",
      "Epoch 7/200\n",
      "100/100 [==============================] - 0s 80us/sample - loss: 5531.8438\n",
      "Epoch 8/200\n",
      "100/100 [==============================] - 0s 70us/sample - loss: 5402.4678\n",
      "Epoch 9/200\n",
      "100/100 [==============================] - 0s 60us/sample - loss: 5284.2459\n",
      "Epoch 10/200\n",
      "100/100 [==============================] - 0s 80us/sample - loss: 5170.6877\n",
      "Epoch 11/200\n",
      "100/100 [==============================] - 0s 80us/sample - loss: 5055.9534\n",
      "Epoch 12/200\n",
      "100/100 [==============================] - 0s 70us/sample - loss: 4943.5772\n",
      "Epoch 13/200\n",
      "100/100 [==============================] - 0s 80us/sample - loss: 4832.2735\n",
      "Epoch 14/200\n",
      "100/100 [==============================] - 0s 70us/sample - loss: 4728.8220\n",
      "Epoch 15/200\n",
      "100/100 [==============================] - 0s 80us/sample - loss: 4621.2501\n",
      "Epoch 16/200\n",
      "100/100 [==============================] - 0s 70us/sample - loss: 4519.2902\n",
      "Epoch 17/200\n",
      "100/100 [==============================] - 0s 80us/sample - loss: 4416.6995\n",
      "Epoch 18/200\n",
      "100/100 [==============================] - 0s 80us/sample - loss: 4316.5062\n",
      "Epoch 19/200\n",
      "100/100 [==============================] - 0s 80us/sample - loss: 4215.0262\n",
      "Epoch 20/200\n",
      "100/100 [==============================] - 0s 80us/sample - loss: 4116.2564\n",
      "Epoch 21/200\n",
      "100/100 [==============================] - 0s 60us/sample - loss: 4016.0006\n",
      "Epoch 22/200\n",
      "100/100 [==============================] - 0s 80us/sample - loss: 3917.6745\n",
      "Epoch 23/200\n",
      "100/100 [==============================] - 0s 60us/sample - loss: 3821.3138\n",
      "Epoch 24/200\n",
      "100/100 [==============================] - 0s 70us/sample - loss: 3725.7705\n",
      "Epoch 25/200\n",
      "100/100 [==============================] - 0s 60us/sample - loss: 3634.4091\n",
      "Epoch 26/200\n",
      "100/100 [==============================] - 0s 60us/sample - loss: 3539.9129\n",
      "Epoch 27/200\n",
      "100/100 [==============================] - 0s 90us/sample - loss: 3447.8284\n",
      "Epoch 28/200\n",
      "100/100 [==============================] - 0s 70us/sample - loss: 3361.7842\n",
      "Epoch 29/200\n",
      "100/100 [==============================] - 0s 60us/sample - loss: 3268.0826\n",
      "Epoch 30/200\n",
      "100/100 [==============================] - 0s 50us/sample - loss: 3180.1391\n",
      "Epoch 31/200\n",
      "100/100 [==============================] - 0s 70us/sample - loss: 3092.7873\n",
      "Epoch 32/200\n",
      "100/100 [==============================] - 0s 70us/sample - loss: 3010.5071\n",
      "Epoch 33/200\n",
      "100/100 [==============================] - 0s 60us/sample - loss: 2928.0552\n",
      "Epoch 34/200\n",
      "100/100 [==============================] - 0s 110us/sample - loss: 2858.5753\n",
      "Epoch 35/200\n",
      "100/100 [==============================] - 0s 70us/sample - loss: 2789.1024\n",
      "Epoch 36/200\n",
      "100/100 [==============================] - 0s 80us/sample - loss: 2720.4596\n",
      "Epoch 37/200\n",
      "100/100 [==============================] - 0s 60us/sample - loss: 2652.1359\n",
      "Epoch 38/200\n",
      "100/100 [==============================] - 0s 80us/sample - loss: 2585.8209\n",
      "Epoch 39/200\n",
      "100/100 [==============================] - 0s 70us/sample - loss: 2520.8357\n",
      "Epoch 40/200\n",
      "100/100 [==============================] - 0s 80us/sample - loss: 2459.6651\n",
      "Epoch 41/200\n",
      "100/100 [==============================] - 0s 70us/sample - loss: 2397.7577\n",
      "Epoch 42/200\n",
      "100/100 [==============================] - 0s 80us/sample - loss: 2340.7408\n",
      "Epoch 43/200\n",
      "100/100 [==============================] - 0s 70us/sample - loss: 2280.2407\n",
      "Epoch 44/200\n",
      "100/100 [==============================] - 0s 80us/sample - loss: 2225.0392\n",
      "Epoch 45/200\n",
      "100/100 [==============================] - 0s 80us/sample - loss: 2166.5517\n",
      "Epoch 46/200\n",
      "100/100 [==============================] - 0s 70us/sample - loss: 2112.7930\n",
      "Epoch 47/200\n",
      "100/100 [==============================] - 0s 70us/sample - loss: 2061.0229\n",
      "Epoch 48/200\n",
      "100/100 [==============================] - 0s 80us/sample - loss: 2009.0739\n",
      "Epoch 49/200\n",
      "100/100 [==============================] - 0s 90us/sample - loss: 1959.1740\n",
      "Epoch 50/200\n",
      "100/100 [==============================] - 0s 70us/sample - loss: 1908.6793\n",
      "Epoch 51/200\n",
      "100/100 [==============================] - 0s 60us/sample - loss: 1858.1737\n",
      "Epoch 52/200\n",
      "100/100 [==============================] - 0s 70us/sample - loss: 1810.5446\n",
      "Epoch 53/200\n",
      "100/100 [==============================] - 0s 70us/sample - loss: 1760.3499\n",
      "Epoch 54/200\n",
      "100/100 [==============================] - 0s 40us/sample - loss: 1710.3724\n",
      "Epoch 55/200\n",
      "100/100 [==============================] - 0s 60us/sample - loss: 1659.8600\n",
      "Epoch 56/200\n",
      "100/100 [==============================] - 0s 70us/sample - loss: 1614.3654\n",
      "Epoch 57/200\n",
      "100/100 [==============================] - 0s 90us/sample - loss: 1567.9937\n",
      "Epoch 58/200\n",
      "100/100 [==============================] - 0s 70us/sample - loss: 1521.4632\n",
      "Epoch 59/200\n",
      "100/100 [==============================] - 0s 80us/sample - loss: 1477.8845\n",
      "Epoch 60/200\n",
      "100/100 [==============================] - 0s 60us/sample - loss: 1433.8804\n",
      "Epoch 61/200\n",
      "100/100 [==============================] - 0s 70us/sample - loss: 1390.5300\n",
      "Epoch 62/200\n",
      "100/100 [==============================] - 0s 60us/sample - loss: 1348.3404\n",
      "Epoch 63/200\n",
      "100/100 [==============================] - 0s 50us/sample - loss: 1305.3354\n",
      "Epoch 64/200\n",
      "100/100 [==============================] - 0s 50us/sample - loss: 1264.7274\n",
      "Epoch 65/200\n",
      "100/100 [==============================] - 0s 70us/sample - loss: 1225.7134\n",
      "Epoch 66/200\n",
      "100/100 [==============================] - 0s 80us/sample - loss: 1185.3981\n",
      "Epoch 67/200\n",
      "100/100 [==============================] - 0s 70us/sample - loss: 1151.2924\n",
      "Epoch 68/200\n",
      "100/100 [==============================] - 0s 80us/sample - loss: 1116.1001\n",
      "Epoch 69/200\n",
      "100/100 [==============================] - 0s 70us/sample - loss: 1081.8668\n",
      "Epoch 70/200\n",
      "100/100 [==============================] - 0s 80us/sample - loss: 1047.2449\n",
      "Epoch 71/200\n",
      "100/100 [==============================] - 0s 60us/sample - loss: 1013.2357\n",
      "Epoch 72/200\n",
      "100/100 [==============================] - 0s 60us/sample - loss: 976.1021\n",
      "Epoch 73/200\n",
      "100/100 [==============================] - 0s 60us/sample - loss: 942.7314\n",
      "Epoch 74/200\n",
      "100/100 [==============================] - 0s 70us/sample - loss: 908.5585\n",
      "Epoch 75/200\n",
      "100/100 [==============================] - 0s 60us/sample - loss: 875.9468\n",
      "Epoch 76/200\n",
      "100/100 [==============================] - 0s 70us/sample - loss: 844.6396\n",
      "Epoch 77/200\n",
      "100/100 [==============================] - 0s 50us/sample - loss: 814.0325\n",
      "Epoch 78/200\n",
      "100/100 [==============================] - 0s 60us/sample - loss: 784.7947\n",
      "Epoch 79/200\n",
      "100/100 [==============================] - 0s 70us/sample - loss: 755.9294\n",
      "Epoch 80/200\n",
      "100/100 [==============================] - 0s 50us/sample - loss: 727.4723\n",
      "Epoch 81/200\n",
      "100/100 [==============================] - 0s 90us/sample - loss: 700.9252\n",
      "Epoch 82/200\n",
      "100/100 [==============================] - 0s 90us/sample - loss: 679.2154\n",
      "Epoch 83/200\n",
      "100/100 [==============================] - 0s 80us/sample - loss: 657.5892\n",
      "Epoch 84/200\n",
      "100/100 [==============================] - 0s 80us/sample - loss: 637.8041\n",
      "Epoch 85/200\n",
      "100/100 [==============================] - 0s 80us/sample - loss: 617.8179\n",
      "Epoch 86/200\n",
      "100/100 [==============================] - 0s 50us/sample - loss: 600.1528\n",
      "Epoch 87/200\n",
      "100/100 [==============================] - 0s 60us/sample - loss: 582.0312\n",
      "Epoch 88/200\n",
      "100/100 [==============================] - 0s 90us/sample - loss: 563.9990\n",
      "Epoch 89/200\n",
      "100/100 [==============================] - 0s 80us/sample - loss: 546.3372\n",
      "Epoch 90/200\n",
      "100/100 [==============================] - 0s 60us/sample - loss: 528.9415\n",
      "Epoch 91/200\n",
      "100/100 [==============================] - 0s 70us/sample - loss: 510.1831\n",
      "Epoch 92/200\n",
      "100/100 [==============================] - 0s 70us/sample - loss: 493.0453\n",
      "Epoch 93/200\n",
      "100/100 [==============================] - 0s 80us/sample - loss: 476.5618\n",
      "Epoch 94/200\n",
      "100/100 [==============================] - 0s 80us/sample - loss: 460.4877\n",
      "Epoch 95/200\n",
      "100/100 [==============================] - 0s 70us/sample - loss: 444.4871\n",
      "Epoch 96/200\n",
      "100/100 [==============================] - 0s 70us/sample - loss: 429.0454\n",
      "Epoch 97/200\n",
      "100/100 [==============================] - 0s 70us/sample - loss: 413.2140\n",
      "Epoch 98/200\n",
      "100/100 [==============================] - 0s 70us/sample - loss: 398.1497\n",
      "Epoch 99/200\n",
      "100/100 [==============================] - 0s 50us/sample - loss: 382.2366\n",
      "Epoch 100/200\n",
      "100/100 [==============================] - 0s 80us/sample - loss: 368.1544\n",
      "Epoch 101/200\n",
      "100/100 [==============================] - 0s 70us/sample - loss: 353.7950\n",
      "Epoch 102/200\n",
      "100/100 [==============================] - 0s 80us/sample - loss: 340.0872\n",
      "Epoch 103/200\n",
      "100/100 [==============================] - 0s 70us/sample - loss: 327.2129\n",
      "Epoch 104/200\n",
      "100/100 [==============================] - 0s 70us/sample - loss: 314.3790\n",
      "Epoch 105/200\n",
      "100/100 [==============================] - 0s 110us/sample - loss: 302.2812\n",
      "Epoch 106/200\n",
      "100/100 [==============================] - 0s 80us/sample - loss: 290.6069\n",
      "Epoch 107/200\n",
      "100/100 [==============================] - 0s 80us/sample - loss: 279.7222\n",
      "Epoch 108/200\n",
      "100/100 [==============================] - 0s 70us/sample - loss: 268.6118\n",
      "Epoch 109/200\n",
      "100/100 [==============================] - 0s 60us/sample - loss: 258.2056\n",
      "Epoch 110/200\n",
      "100/100 [==============================] - 0s 80us/sample - loss: 246.9522\n",
      "Epoch 111/200\n",
      "100/100 [==============================] - 0s 70us/sample - loss: 237.0654\n",
      "Epoch 112/200\n",
      "100/100 [==============================] - 0s 60us/sample - loss: 227.2910\n",
      "Epoch 113/200\n",
      "100/100 [==============================] - 0s 60us/sample - loss: 218.1502\n",
      "Epoch 114/200\n",
      "100/100 [==============================] - 0s 110us/sample - loss: 209.2957\n",
      "Epoch 115/200\n",
      "100/100 [==============================] - 0s 80us/sample - loss: 200.5942\n",
      "Epoch 116/200\n",
      "100/100 [==============================] - 0s 80us/sample - loss: 192.4402\n",
      "Epoch 117/200\n",
      "100/100 [==============================] - 0s 80us/sample - loss: 184.3617\n",
      "Epoch 118/200\n",
      "100/100 [==============================] - 0s 70us/sample - loss: 176.5184\n",
      "Epoch 119/200\n",
      "100/100 [==============================] - 0s 80us/sample - loss: 168.5394\n",
      "Epoch 120/200\n",
      "100/100 [==============================] - 0s 60us/sample - loss: 161.3753\n",
      "Epoch 121/200\n",
      "100/100 [==============================] - 0s 110us/sample - loss: 154.5999\n",
      "Epoch 122/200\n",
      "100/100 [==============================] - 0s 80us/sample - loss: 147.6680\n",
      "Epoch 123/200\n",
      "100/100 [==============================] - 0s 50us/sample - loss: 141.5960\n",
      "Epoch 124/200\n",
      "100/100 [==============================] - 0s 50us/sample - loss: 135.4994\n",
      "Epoch 125/200\n",
      "100/100 [==============================] - 0s 50us/sample - loss: 130.0479\n",
      "Epoch 126/200\n",
      "100/100 [==============================] - 0s 70us/sample - loss: 124.6871\n",
      "Epoch 127/200\n",
      "100/100 [==============================] - 0s 110us/sample - loss: 119.4018\n",
      "Epoch 128/200\n",
      "100/100 [==============================] - 0s 80us/sample - loss: 113.9462\n",
      "Epoch 129/200\n",
      "100/100 [==============================] - 0s 70us/sample - loss: 109.0117\n",
      "Epoch 130/200\n",
      "100/100 [==============================] - 0s 70us/sample - loss: 103.7208\n",
      "Epoch 131/200\n",
      "100/100 [==============================] - 0s 60us/sample - loss: 98.9605\n",
      "Epoch 132/200\n",
      "100/100 [==============================] - 0s 90us/sample - loss: 94.2461\n",
      "Epoch 133/200\n",
      "100/100 [==============================] - 0s 70us/sample - loss: 89.6142\n",
      "Epoch 134/200\n",
      "100/100 [==============================] - 0s 110us/sample - loss: 85.3865\n",
      "Epoch 135/200\n",
      "100/100 [==============================] - 0s 70us/sample - loss: 81.2328\n",
      "Epoch 136/200\n",
      "100/100 [==============================] - 0s 80us/sample - loss: 77.4984\n",
      "Epoch 137/200\n",
      "100/100 [==============================] - 0s 100us/sample - loss: 74.0098\n",
      "Epoch 138/200\n",
      "100/100 [==============================] - 0s 50us/sample - loss: 70.5917\n",
      "Epoch 139/200\n",
      "100/100 [==============================] - 0s 100us/sample - loss: 67.3350\n",
      "Epoch 140/200\n",
      "100/100 [==============================] - 0s 70us/sample - loss: 64.4468\n",
      "Epoch 141/200\n",
      "100/100 [==============================] - 0s 100us/sample - loss: 61.6097\n",
      "Epoch 142/200\n",
      "100/100 [==============================] - 0s 120us/sample - loss: 58.9833\n",
      "Epoch 143/200\n",
      "100/100 [==============================] - 0s 80us/sample - loss: 56.2448\n",
      "Epoch 144/200\n",
      "100/100 [==============================] - 0s 80us/sample - loss: 53.9447\n",
      "Epoch 145/200\n",
      "100/100 [==============================] - 0s 90us/sample - loss: 51.5891\n",
      "Epoch 146/200\n",
      "100/100 [==============================] - 0s 110us/sample - loss: 49.3750\n",
      "Epoch 147/200\n",
      "100/100 [==============================] - 0s 80us/sample - loss: 47.1780\n",
      "Epoch 148/200\n",
      "100/100 [==============================] - 0s 90us/sample - loss: 45.1875\n",
      "Epoch 149/200\n",
      "100/100 [==============================] - 0s 90us/sample - loss: 43.4175\n",
      "Epoch 150/200\n",
      "100/100 [==============================] - 0s 100us/sample - loss: 41.7467\n",
      "Epoch 151/200\n",
      "100/100 [==============================] - 0s 70us/sample - loss: 40.2582\n",
      "Epoch 152/200\n",
      "100/100 [==============================] - 0s 70us/sample - loss: 38.8104\n",
      "Epoch 153/200\n",
      "100/100 [==============================] - 0s 50us/sample - loss: 37.5089\n",
      "Epoch 154/200\n",
      "100/100 [==============================] - 0s 40us/sample - loss: 36.2751\n",
      "Epoch 155/200\n",
      "100/100 [==============================] - 0s 70us/sample - loss: 35.1656\n",
      "Epoch 156/200\n",
      "100/100 [==============================] - 0s 150us/sample - loss: 33.9742\n",
      "Epoch 157/200\n",
      "100/100 [==============================] - 0s 110us/sample - loss: 32.9622\n",
      "Epoch 158/200\n",
      "100/100 [==============================] - 0s 70us/sample - loss: 31.9655\n",
      "Epoch 159/200\n",
      "100/100 [==============================] - 0s 80us/sample - loss: 31.0931\n",
      "Epoch 160/200\n",
      "100/100 [==============================] - 0s 70us/sample - loss: 30.2117\n",
      "Epoch 161/200\n",
      "100/100 [==============================] - 0s 80us/sample - loss: 29.3873\n",
      "Epoch 162/200\n",
      "100/100 [==============================] - 0s 70us/sample - loss: 28.6569\n",
      "Epoch 163/200\n",
      "100/100 [==============================] - 0s 80us/sample - loss: 27.9664\n",
      "Epoch 164/200\n",
      "100/100 [==============================] - 0s 70us/sample - loss: 27.3340\n",
      "Epoch 165/200\n",
      "100/100 [==============================] - 0s 60us/sample - loss: 26.7680\n",
      "Epoch 166/200\n",
      "100/100 [==============================] - 0s 90us/sample - loss: 26.1509\n",
      "Epoch 167/200\n",
      "100/100 [==============================] - 0s 90us/sample - loss: 25.5908\n",
      "Epoch 168/200\n",
      "100/100 [==============================] - 0s 50us/sample - loss: 25.0933\n",
      "Epoch 169/200\n",
      "100/100 [==============================] - 0s 50us/sample - loss: 24.6082\n",
      "Epoch 170/200\n",
      "100/100 [==============================] - 0s 40us/sample - loss: 24.1184\n",
      "Epoch 171/200\n",
      "100/100 [==============================] - 0s 70us/sample - loss: 23.7379\n",
      "Epoch 172/200\n",
      "100/100 [==============================] - 0s 80us/sample - loss: 23.3554\n",
      "Epoch 173/200\n",
      "100/100 [==============================] - 0s 90us/sample - loss: 23.0444\n",
      "Epoch 174/200\n",
      "100/100 [==============================] - 0s 80us/sample - loss: 22.7532\n",
      "Epoch 175/200\n",
      "100/100 [==============================] - 0s 60us/sample - loss: 22.4608\n",
      "Epoch 176/200\n",
      "100/100 [==============================] - 0s 80us/sample - loss: 22.2269\n",
      "Epoch 177/200\n",
      "100/100 [==============================] - 0s 90us/sample - loss: 21.9829\n",
      "Epoch 178/200\n",
      "100/100 [==============================] - 0s 90us/sample - loss: 21.7563\n",
      "Epoch 179/200\n",
      "100/100 [==============================] - 0s 90us/sample - loss: 21.4931\n",
      "Epoch 180/200\n",
      "100/100 [==============================] - 0s 52us/sample - loss: 21.3318\n",
      "Epoch 181/200\n",
      "100/100 [==============================] - 0s 80us/sample - loss: 21.1445\n",
      "Epoch 182/200\n",
      "100/100 [==============================] - 0s 80us/sample - loss: 20.9818\n",
      "Epoch 183/200\n",
      "100/100 [==============================] - 0s 60us/sample - loss: 20.8130\n",
      "Epoch 184/200\n",
      "100/100 [==============================] - 0s 70us/sample - loss: 20.6606\n",
      "Epoch 185/200\n",
      "100/100 [==============================] - 0s 60us/sample - loss: 20.5078\n",
      "Epoch 186/200\n",
      "100/100 [==============================] - 0s 90us/sample - loss: 20.3618\n",
      "Epoch 187/200\n",
      "100/100 [==============================] - 0s 80us/sample - loss: 20.2547\n",
      "Epoch 188/200\n",
      "100/100 [==============================] - 0s 90us/sample - loss: 20.1293\n",
      "Epoch 189/200\n",
      "100/100 [==============================] - 0s 80us/sample - loss: 20.0169\n",
      "Epoch 190/200\n",
      "100/100 [==============================] - 0s 90us/sample - loss: 19.9396\n",
      "Epoch 191/200\n",
      "100/100 [==============================] - 0s 100us/sample - loss: 19.8836\n",
      "Epoch 192/200\n",
      "100/100 [==============================] - 0s 80us/sample - loss: 19.8296\n",
      "Epoch 193/200\n",
      "100/100 [==============================] - 0s 90us/sample - loss: 19.7782\n",
      "Epoch 194/200\n",
      "100/100 [==============================] - 0s 70us/sample - loss: 19.7181\n",
      "Epoch 195/200\n",
      "100/100 [==============================] - 0s 70us/sample - loss: 19.6641\n",
      "Epoch 196/200\n",
      "100/100 [==============================] - 0s 90us/sample - loss: 19.6276\n",
      "Epoch 197/200\n",
      "100/100 [==============================] - 0s 50us/sample - loss: 19.5840\n",
      "Epoch 198/200\n",
      "100/100 [==============================] - 0s 80us/sample - loss: 19.5458\n",
      "Epoch 199/200\n",
      "100/100 [==============================] - 0s 70us/sample - loss: 19.4832\n",
      "Epoch 200/200\n",
      "100/100 [==============================] - 0s 80us/sample - loss: 19.4327\n"
     ]
    },
    {
     "data": {
      "text/plain": [
       "<tensorflow.python.keras.callbacks.History at 0x23243ce5b48>"
      ]
     },
     "execution_count": 19,
     "metadata": {},
     "output_type": "execute_result"
    }
   ],
   "source": [
    "model.fit(x, y, epochs=200, )"
   ]
  },
  {
   "cell_type": "code",
   "execution_count": 24,
   "metadata": {},
   "outputs": [
    {
     "data": {
      "image/png": "[encoded data removed]",
      "text/plain": [
       "<Figure size 432x288 with 1 Axes>"
      ]
     },
     "metadata": {
      "needs_background": "light"
     },
     "output_type": "display_data"
    }
   ],
   "source": [
    "loss = model.history.history['loss']\n",
    "epochs = range(len(loss))\n",
    "plt.plot(epochs, loss);"
   ]
  },
  {
   "cell_type": "markdown",
   "metadata": {},
   "source": [
    "#### Predictions\n",
    "______"
   ]
  },
  {
   "cell_type": "code",
   "execution_count": 27,
   "metadata": {},
   "outputs": [],
   "source": [
    "x_test = np.linspace(0,50,100)\n",
    "predictions = model.predict(x_test)"
   ]
  },
  {
   "cell_type": "code",
   "execution_count": 29,
   "metadata": {},
   "outputs": [
    {
     "data": {
      "image/png": "[encoded data removed]",
      "text/plain": [
       "<Figure size 432x288 with 1 Axes>"
      ]
     },
     "metadata": {
      "needs_background": "light"
     },
     "output_type": "display_data"
    }
   ],
   "source": [
    "plt.plot(x,y, '*')\n",
    "plt.plot(x_test,predictions, 'r')\n",
    "\n",
    "plt.tight_layout()"
   ]
  },
  {
   "cell_type": "markdown",
   "metadata": {},
   "source": [
    "#### Evaluate\n",
    "____"
   ]
  },
  {
   "cell_type": "code",
   "execution_count": 32,
   "metadata": {},
   "outputs": [
    {
     "data": {
      "text/plain": [
       "19.399739002509822"
      ]
     },
     "execution_count": 32,
     "metadata": {},
     "output_type": "execute_result"
    }
   ],
   "source": [
    "mean_squared_error(y, predictions)"
   ]
  },
  {
   "cell_type": "code",
   "execution_count": null,
   "metadata": {},
   "outputs": [],
   "source": []
  }
 ],
 "metadata": {
  "kernelspec": {
   "display_name": "Python 3",
   "language": "python",
   "name": "python3"
  },
  "language_info": {
   "codemirror_mode": {
    "name": "ipython",
    "version": 3
   },
   "file_extension": ".py",
   "mimetype": "text/x-python",
   "name": "python",
   "nbconvert_exporter": "python",
   "pygments_lexer": "ipython3",
   "version": "3.7.6"
  }
 },
 "nbformat": 4,
 "nbformat_minor": 4
}
